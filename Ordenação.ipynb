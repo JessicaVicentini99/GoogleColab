{
  "nbformat": 4,
  "nbformat_minor": 0,
  "metadata": {
    "colab": {
      "name": "Ordenação.ipynb",
      "provenance": [],
      "collapsed_sections": [],
      "toc_visible": true,
      "authorship_tag": "ABX9TyNSnW2jPYFgxcwZtnXZi/1V",
      "include_colab_link": true
    },
    "kernelspec": {
      "name": "python3",
      "display_name": "Python 3"
    },
    "language_info": {
      "name": "python"
    }
  },
  "cells": [
    {
      "cell_type": "markdown",
      "metadata": {
        "id": "view-in-github",
        "colab_type": "text"
      },
      "source": [
        "<a href=\"https://colab.research.google.com/github/JessicaVicentini99/GoogleColab/blob/main/Ordena%C3%A7%C3%A3o.ipynb\" target=\"_parent\"><img src=\"https://colab.research.google.com/assets/colab-badge.svg\" alt=\"Open In Colab\"/></a>"
      ]
    },
    {
      "cell_type": "markdown",
      "metadata": {
        "id": "J9WGBrnZzBeQ"
      },
      "source": [
        "# Preparação do ambiente\n"
      ]
    },
    {
      "cell_type": "code",
      "metadata": {
        "id": "QYGRPBZrzFcb"
      },
      "source": [
        "import random"
      ],
      "execution_count": null,
      "outputs": []
    },
    {
      "cell_type": "markdown",
      "metadata": {
        "id": "FodtdP5muNce"
      },
      "source": [
        "# Ordenação por inserção\n"
      ]
    },
    {
      "cell_type": "code",
      "metadata": {
        "id": "N2bsjwKMtUni"
      },
      "source": [
        "def ordenacao_insercao(A):\n",
        "    n = len(A)\n",
        "    # Percorre o arranjo A.\n",
        "    for j in range(1, n):\n",
        "        chave = A[j]\n",
        "        i = j - 1\n",
        "        # Insere o elemento A[j] na posição correta.\n",
        "        while i >= 0 and A[i] > chave:\n",
        "            A[i + 1] = A[i]\n",
        "            i = i - 1\n",
        "        A[i + 1] = chave"
      ],
      "execution_count": null,
      "outputs": []
    },
    {
      "cell_type": "code",
      "metadata": {
        "colab": {
          "base_uri": "https://localhost:8080/"
        },
        "id": "pcIwOCC-y8eM",
        "outputId": "6160b614-f833-495a-a589-1f456e00ce71"
      },
      "source": [
        "A = random.sample(range(-10, 10), 10)\n",
        "\n",
        "print(\"Arranjo não ordenado: \", A)\n",
        "ordenacao_insercao(A)\n",
        "print(\"Arranjo ordenado:\", A)"
      ],
      "execution_count": null,
      "outputs": [
        {
          "output_type": "stream",
          "name": "stdout",
          "text": [
            "Arranjo não ordenado:  [2, 7, -3, 9, 3, 8, 1, -8, 6, -6]\n",
            "Arranjo ordenado: [-8, -6, -3, 1, 2, 3, 6, 7, 8, 9]\n"
          ]
        }
      ]
    },
    {
      "cell_type": "markdown",
      "metadata": {
        "id": "gorGX_yn2SSD"
      },
      "source": [
        "# Ordenação por seleção"
      ]
    },
    {
      "cell_type": "code",
      "metadata": {
        "id": "CE2LMC_I2VNk"
      },
      "source": [
        "def ordenacao_selecao(A):\n",
        "    n = len(A)\n",
        "    # Percorre o arranjo A.\n",
        "    for i in range(n):\n",
        "        # Encontra o elemento mínimo em A.\n",
        "        minimo = i\n",
        "        for j in range(i + 1, n):\n",
        "            if A[minimo] > A[j]:\n",
        "                minimo = j\n",
        "        # Coloca o elemento mínimo na posição correta.\n",
        "        A[i], A[minimo] = A[minimo], A[i]"
      ],
      "execution_count": null,
      "outputs": []
    },
    {
      "cell_type": "code",
      "metadata": {
        "colab": {
          "base_uri": "https://localhost:8080/"
        },
        "id": "Jf_hMc7V2Xz9",
        "outputId": "2f791989-291b-40c2-e7e7-ff26f820d127"
      },
      "source": [
        "A = random.sample(range(-10, 10), 10)\n",
        "print(\"Arranjo não ordenado: \", A)\n",
        "\n",
        "ordenacao_selecao(A)\n",
        "\n",
        "print(\"Arranjo ordenado:\", A)"
      ],
      "execution_count": null,
      "outputs": [
        {
          "output_type": "stream",
          "name": "stdout",
          "text": [
            "Arranjo não ordenado:  [0, 1, 2, 6, -7, -2, -5, -9, -8, -4]\n",
            "Arranjo ordenado: [-9, -8, -7, -5, -4, -2, 0, 1, 2, 6]\n"
          ]
        }
      ]
    },
    {
      "cell_type": "markdown",
      "metadata": {
        "id": "kVNCBub25Ua-"
      },
      "source": [
        "# Mergesort"
      ]
    },
    {
      "cell_type": "code",
      "metadata": {
        "id": "16yH58iV5XJv"
      },
      "source": [
        "def merge(A, aux, esquerda, meio, direita):\n",
        "    \"\"\"\n",
        "    Combina dois vetores ordenados em um único vetor (também ordenado).\n",
        "    \"\"\"\n",
        "    for k in range(esquerda, direita + 1):\n",
        "        aux[k] = A[k]\n",
        "    i = esquerda\n",
        "    j = meio + 1\n",
        "    for k in range(esquerda, direita + 1):\n",
        "        if i > meio:\n",
        "            A[k] = aux[j]\n",
        "            j += 1\n",
        "        elif j > direita:\n",
        "            A[k] = aux[i]\n",
        "            i += 1\n",
        "        elif aux[j] < aux[i]:\n",
        "            A[k] = aux[j]\n",
        "            j += 1\n",
        "        else:\n",
        "            A[k] = aux[i]\n",
        "            i += 1\n",
        "\n",
        "\n",
        "def mergesort(A, aux, esquerda, direita):\n",
        "    if direita <= esquerda:\n",
        "        return\n",
        "    meio = (esquerda + direita) // 2\n",
        "\n",
        "    # Ordena a primeira metade do arranjo.\n",
        "    mergesort(A, aux, esquerda, meio)\n",
        "\n",
        "    # Ordena a segunda metade do arranjo.\n",
        "    mergesort(A, aux, meio + 1, direita)\n",
        "\n",
        "    # Combina as duas metades ordenadas anteriormente.\n",
        "    merge(A, aux, esquerda, meio, direita)"
      ],
      "execution_count": null,
      "outputs": []
    },
    {
      "cell_type": "code",
      "metadata": {
        "colab": {
          "base_uri": "https://localhost:8080/"
        },
        "id": "K4JwL0Rx5Yih",
        "outputId": "de869b6d-9123-4a40-ae35-577cbf230ec5"
      },
      "source": [
        "# Testa o algoritmo.\n",
        "A = random.sample(range(-10, 10), 10)\n",
        "print(\"Arranjo não ordenado: \", A)\n",
        "aux = [0] * len(A)\n",
        "mergesort(A, aux, 0, len(A) - 1)\n",
        "print(\"Arranjo ordenado:\", A)"
      ],
      "execution_count": null,
      "outputs": [
        {
          "output_type": "stream",
          "name": "stdout",
          "text": [
            "Arranjo não ordenado:  [6, 0, -10, 1, -4, -7, -8, 2, -9, 5]\n",
            "Arranjo ordenado: [-10, -9, -8, -7, -4, 0, 1, 2, 5, 6]\n"
          ]
        }
      ]
    },
    {
      "cell_type": "markdown",
      "metadata": {
        "id": "Zj4fOw1A5edB"
      },
      "source": [
        "# Heapsort"
      ]
    },
    {
      "cell_type": "code",
      "metadata": {
        "id": "ufQPbVxr5gWV"
      },
      "source": [
        "# To heapify subtree rooted at index i.\n",
        "# n is size of heap\n",
        "def heapify(arr, n, i):\n",
        "    largest = i  # Initialize largest as root\n",
        "    l = 2 * i + 1     # left = 2*i + 1\n",
        "    r = 2 * i + 2     # right = 2*i + 2\n",
        "  \n",
        "    # See if left child of root exists and is\n",
        "    # greater than root\n",
        "    if l < n and arr[i] < arr[l]:\n",
        "        largest = l\n",
        "  \n",
        "    # See if right child of root exists and is\n",
        "    # greater than root\n",
        "    if r < n and arr[largest] < arr[r]:\n",
        "        largest = r\n",
        "  \n",
        "    # Change root, if needed\n",
        "    if largest != i:\n",
        "        arr[i],arr[largest] = arr[largest],arr[i]  # swap\n",
        "  \n",
        "        # Heapify the root.\n",
        "        heapify(arr, n, largest)\n",
        "  \n",
        "# The main function to sort an array of given size\n",
        "def heapSort(arr):\n",
        "    n = len(arr)\n",
        "  \n",
        "    # Build a maxheap.\n",
        "    # Since last parent will be at ((n//2)-1) we can start at that location.\n",
        "    for i in range(n // 2 - 1, -1, -1):\n",
        "        heapify(arr, n, i)\n",
        "  \n",
        "    # One by one extract elements\n",
        "    for i in range(n-1, 0, -1):\n",
        "        arr[i], arr[0] = arr[0], arr[i]   # swap\n",
        "        heapify(arr, i, 0)"
      ],
      "execution_count": null,
      "outputs": []
    },
    {
      "cell_type": "code",
      "metadata": {
        "colab": {
          "base_uri": "https://localhost:8080/"
        },
        "id": "z73gGuL17Gwa",
        "outputId": "2f0f98a1-3d8a-4778-c64d-07fe658be8ba"
      },
      "source": [
        "D = random.sample(range(-10, 10), 10)\n",
        "\n",
        "print(\"Arranjo não ordenado: \", D)\n",
        "heapSort(D)\n",
        "print(\"Arranjo ordenado:\", D)\n",
        "# This code is contributed by Mohit Kumra"
      ],
      "execution_count": null,
      "outputs": [
        {
          "output_type": "stream",
          "name": "stdout",
          "text": [
            "Arranjo não ordenado:  [-2, -4, 3, 0, 2, -3, 4, -1, -7, 5]\n",
            "Arranjo ordenado: [-7, -4, -3, -2, -1, 0, 2, 3, 4, 5]\n"
          ]
        }
      ]
    },
    {
      "cell_type": "markdown",
      "metadata": {
        "id": "tXHQHs-v8XNj"
      },
      "source": [
        "# QuickSort\n"
      ]
    },
    {
      "cell_type": "code",
      "metadata": {
        "id": "q34Dxqbq8ZDU"
      },
      "source": [
        "def particao(A, esquerda, direita):\n",
        "    # 1. Seleção do pivô. O pivô será o elemento A[esquerda].\n",
        "    pivo = A[esquerda]\n",
        "    # Particionamento do arranjo.\n",
        "    i = esquerda\n",
        "    j = direita\n",
        "    while i <= j:\n",
        "        # Encontra elemento maior que o pivo.\n",
        "        while A[i] <= pivo:\n",
        "            i += 1\n",
        "            if i == direita:\n",
        "                break\n",
        "\n",
        "        # Encontra elemento menor que o pivo.\n",
        "        while pivo <= A[j]:\n",
        "            j -= 1\n",
        "            if j == esquerda:\n",
        "                break\n",
        "\n",
        "        # Ponteiros i e j se cruzaram.\n",
        "        if i >= j:\n",
        "            break\n",
        "\n",
        "        # Troca elementos encontrados acima de lugar.\n",
        "        A[i], A[j] = A[j], A[i]\n",
        "\n",
        "    # Coloca o pivo no lugar certo.\n",
        "    pivo, A[j] = A[j], pivo\n",
        "\n",
        "    # j é o índice em que o pivo agora está.\n",
        "    return j"
      ],
      "execution_count": null,
      "outputs": []
    },
    {
      "cell_type": "code",
      "metadata": {
        "id": "LFoLrX_Q9iES"
      },
      "source": [
        "def quicksort(A):\n",
        "    if len(A) == 0: return A\n",
        "    pivot = A[0]\n",
        "    frente = quicksort([menor for menor in A[1:] if menor <= pivo])\n",
        "    tras   = quicksort([maior for maior in A[1:] if maior > pivo])\n",
        "    return frente + [pivo] + tras\n",
        "    "
      ],
      "execution_count": null,
      "outputs": []
    },
    {
      "cell_type": "code",
      "metadata": {
        "id": "kbWq6pq3-xiY",
        "colab": {
          "base_uri": "https://localhost:8080/"
        },
        "outputId": "848f9ed9-1e49-4063-cce4-0ce1f62a34e8"
      },
      "source": [
        "def quickSort(alist):\n",
        "   quickSortHelper(alist,0,len(alist)-1)\n",
        "\n",
        "def quickSortHelper(alist,first,last):\n",
        "   if first<last:\n",
        "\n",
        "       splitpoint = partition(alist,first,last)\n",
        "\n",
        "       quickSortHelper(alist,first,splitpoint-1)\n",
        "       quickSortHelper(alist,splitpoint+1,last)\n",
        "\n",
        "\n",
        "def partition(alist,first,last):\n",
        "   pivotvalue = alist[first]\n",
        "\n",
        "   leftmark = first+1\n",
        "   rightmark = last\n",
        "\n",
        "   done = False\n",
        "   while not done:\n",
        "\n",
        "       while leftmark <= rightmark and alist[leftmark] <= pivotvalue:\n",
        "           leftmark = leftmark + 1\n",
        "\n",
        "       while alist[rightmark] >= pivotvalue and rightmark >= leftmark:\n",
        "           rightmark = rightmark -1\n",
        "\n",
        "       if rightmark < leftmark:\n",
        "           done = True\n",
        "       else:\n",
        "           temp = alist[leftmark]\n",
        "           alist[leftmark] = alist[rightmark]\n",
        "           alist[rightmark] = temp\n",
        "\n",
        "   temp = alist[first]\n",
        "   alist[first] = alist[rightmark]\n",
        "   alist[rightmark] = temp\n",
        "\n",
        "\n",
        "   return rightmark\n",
        "\n",
        "alist = [54,26,93,17,77,31,44,55,20]\n",
        "quickSort(alist)\n",
        "print(alist)"
      ],
      "execution_count": null,
      "outputs": [
        {
          "output_type": "stream",
          "name": "stdout",
          "text": [
            "[17, 20, 26, 31, 44, 54, 55, 77, 93]\n"
          ]
        }
      ]
    }
  ]
}